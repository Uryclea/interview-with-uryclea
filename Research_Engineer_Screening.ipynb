{
  "nbformat": 4,
  "nbformat_minor": 0,
  "metadata": {
    "colab": {
      "provenance": []
    },
    "kernelspec": {
      "name": "python3",
      "display_name": "Python 3"
    },
    "language_info": {
      "name": "python"
    }
  },
  "cells": [
    {
      "cell_type": "markdown",
      "source": [
        "\n",
        "### 👋 Welcome to the technical screening for the **Research Engineer** position at Uryclea.\n",
        "\n",
        "The research engineer role requires a broad range of engineering skills and **this screening tests for two of them: ML research engineering acumen and a product development mindset** when it comes to research tooling for AI product development.\n",
        "\n",
        "Another very important aspect of this role is reviewing and improving existing code and providing feedback and input to engineering teams. This aspect is not the primary focus of the current test but will be tested in the future during the work trial.\n"
      ],
      "metadata": {
        "id": "dFIHoHd655PK"
      }
    },
    {
      "cell_type": "markdown",
      "source": [
        "### Instructions"
      ],
      "metadata": {
        "id": "yX-6AZWq6jJx"
      }
    },
    {
      "cell_type": "markdown",
      "source": [
        "1. Make a copy of this notebook.\n",
        "2. Read through the tasks and rules below and plan ahead. You can tackle the tasks in whichever order you prefer.\n",
        "3. Fill in your solutions directly in this notebook. The places to fill are marked with \"✍️\".\n",
        "4. When you're finished, please share the notebook with the reviewing team (see instructions at the bottom).\n",
        "\n",
        "If you encounter any issues during the test, please contact us at the private Slack channel.\n",
        "\n",
        "Good luck!\n",
        "\n",
        "\n",
        "---\n",
        "*Note: In the invitation e-mail we asked you to:*\n",
        "- *sign up for Colab Pro if you aim to train or finetune models*\n",
        "\n",
        "*This is purely precautionary. It is entirely possible to do this task without either of these. So, please do not worry if you end up not relying on them in your solution.*\n",
        "\n",
        "---"
      ],
      "metadata": {
        "id": "hMyRgk6R6Qn-"
      }
    },
    {
      "cell_type": "markdown",
      "source": [
        "### Task Overview"
      ],
      "metadata": {
        "id": "AhqeVh616ocV"
      }
    },
    {
      "cell_type": "markdown",
      "source": [
        "1. **ML Engineering**:\n",
        "   - Topic: Parsed data from finance is brittle and messy and retrieval systems are easily undone because of this. That is, it is incredibly easy to build a prototype and near enough impossible to build production-level systems.\n",
        "   - Goal: Implement a simple MVP of how parsing and processing such data works in practice and add your thoughts on how to extend it.\n",
        "   - See below for detailed instructions.\n",
        "\n",
        "2. **Product Development / Research Acceleration**:\n",
        "   - Topic: Accelerating research for downstream usage.\n",
        "   - Goal: Propose ideas that could accelerate research for products being developed downstream.\n",
        "   - See below for detailed instructions.\n",
        "\n",
        "  *While both tasks are somewhat open-ended, we **expect task 1 to be significantly more time-demanding**. You're free to prioritize as you wish of course but by default would suggest to allot at least 2/3 of your time for task 1.*"
      ],
      "metadata": {
        "id": "BgFLUcIN6ruj"
      }
    },
    {
      "cell_type": "markdown",
      "source": [
        "### Rules"
      ],
      "metadata": {
        "id": "wT_EJmhv7ga-"
      }
    },
    {
      "cell_type": "markdown",
      "source": [
        "- Please don't update your notebook after submission\n",
        "- Please don't share your notebook with anyone else\n",
        "- While we of course encourage you to use AI assistance during your daily work, we also want to understand your non-AI-mediated thinking and writing. **Please do not use AI assistance during this work test with the below exceptions**.\n",
        "- Allowed tools:\n",
        "  - Internet search for code documentation or snippets is fine.\n",
        "  - autocomplete inside google colab is fine.\n",
        "  - using AI assistants for dataset creation is fine (but should be commented on in the code)\n",
        "\n",
        "Thanks for respecting the process!"
      ],
      "metadata": {
        "id": "TUBmhGhH7fT7"
      }
    },
    {
      "cell_type": "code",
      "source": [
        "# ✍️ Please agree to the above rules by filling in your name and e-mail below\n",
        "name = \"\"\n",
        "email = \"\"\n",
        "if name and email:\n",
        "  print(f\"🤗 Thank you, {name} ({email}), for consenting to our rules!\")\n",
        "else:\n",
        "  print(\"🖐️ Please fill in your name and e-mail to proceed.\")\n"
      ],
      "metadata": {
        "colab": {
          "base_uri": "https://localhost:8080/"
        },
        "id": "-NCXsuGH6qDW",
        "outputId": "4fc313d0-6175-480d-fc33-472e0b7811ad"
      },
      "execution_count": 3,
      "outputs": [
        {
          "output_type": "stream",
          "name": "stdout",
          "text": [
            "🖐️ Please fill in your name and e-mail to proceed.\n"
          ]
        }
      ]
    },
    {
      "cell_type": "markdown",
      "source": [
        "# Task 1: ML Research Engineering"
      ],
      "metadata": {
        "id": "zKUN-Hj47wki"
      }
    },
    {
      "cell_type": "markdown",
      "source": [
        "Estimated Time: 40 minutes to 4 hours."
      ],
      "metadata": {
        "id": "TdG7U4ug-7lC"
      }
    },
    {
      "cell_type": "markdown",
      "source": [
        "## Objective"
      ],
      "metadata": {
        "id": "Q7LmkKv_7yZS"
      }
    },
    {
      "cell_type": "markdown",
      "source": [
        "Implement a simplified version of a **retrieval system processing HTML text**. This task involves selecting appropriate tools, preparing datasets, implementing an evaluation process, and analyzing the results.\n"
      ],
      "metadata": {
        "id": "oZ-FSTPc70gW"
      }
    },
    {
      "cell_type": "markdown",
      "source": [
        "## Background"
      ],
      "metadata": {
        "id": "5lBBROSU8Pql"
      }
    },
    {
      "cell_type": "markdown",
      "source": [
        "A [Form 8-K](https://www.investor.gov/introduction-investing/investing-basics/glossary/form-8-k#:~:text=Form%208%2DK%20is%20known,that%20triggers%20the%20filing%20requirement) contains exhibits as part of the filing. See [here](https://www.sec.gov/ix?doc=/Archives/edgar/data/40729/000119312524271543/d916570d8k.htm) for an example.\n",
        "\n",
        "These exhibits can come in any shape or form. We can obtain these forms and exhibits in an HTML format. However, the path from this to *talking to your HTML* is not as straightforward."
      ],
      "metadata": {
        "id": "Rkfy2WDU8SX-"
      }
    },
    {
      "cell_type": "markdown",
      "source": [
        "Important:\n",
        "\n",
        "*   You are free to deviate from the specific approach in the post.\n",
        "*   We are looking for an MVP of a simple retrieval system.\n",
        "\n",
        "We expect this task to be hard to fully solve in the alloted time. So please don't panic and just see how far you get. Good luck!"
      ],
      "metadata": {
        "id": "A3nibyp98Zvl"
      }
    },
    {
      "cell_type": "markdown",
      "source": [
        "## Instructions"
      ],
      "metadata": {
        "id": "lBoManoJ8lix"
      }
    },
    {
      "cell_type": "markdown",
      "source": [
        "The main task components are:\n",
        "1. Parse HTML files.\n",
        "2. Prepare and process text and vector embeddings for archiving into a vector database.\n",
        "4. Evaluate the system's outputs on sample queries.\n",
        "5. Provide brief thoughts on scaling to alternative settings and challenges.\n",
        "6. *Optional; only if time allows: Attempt extenions such as finetuning models and agentic parsing/retrieval.*"
      ],
      "metadata": {
        "id": "9wrQXSYp8m5O"
      }
    },
    {
      "cell_type": "markdown",
      "source": [
        "## YOUR SOLUTION"
      ],
      "metadata": {
        "id": "B4M9GbUH8uRu"
      }
    },
    {
      "cell_type": "markdown",
      "source": [
        "*✍️ Fill in your solution below*\n",
        "\n",
        "*Feel free to add your thinking / observations / where you got stuck directly as comments in your code*"
      ],
      "metadata": {
        "id": "8cMkw0Jx8x5o"
      }
    },
    {
      "cell_type": "markdown",
      "source": [
        "### Data Preparation"
      ],
      "metadata": {
        "id": "B8GLOIGQAJ5n"
      }
    },
    {
      "cell_type": "markdown",
      "source": [
        "We provide a sample of parsed HTML files in the `html_exhibits`directory.\n"
      ],
      "metadata": {
        "id": "qr-EFyQoAMmj"
      }
    },
    {
      "cell_type": "code",
      "source": [],
      "metadata": {
        "id": "Eb95fLtd7qOX"
      },
      "execution_count": null,
      "outputs": []
    },
    {
      "cell_type": "markdown",
      "source": [
        "### Parse and Process Text"
      ],
      "metadata": {
        "id": "E0RuS5NtAX0b"
      }
    },
    {
      "cell_type": "markdown",
      "source": [
        "> TODO: Description and hints here."
      ],
      "metadata": {
        "id": "jlM4VwZ5AbIM"
      }
    },
    {
      "cell_type": "code",
      "source": [],
      "metadata": {
        "id": "kDv-D5esAexd"
      },
      "execution_count": null,
      "outputs": []
    },
    {
      "cell_type": "markdown",
      "source": [
        "### Archive Embeddings"
      ],
      "metadata": {
        "id": "lViUiCd7Afd_"
      }
    },
    {
      "cell_type": "markdown",
      "source": [
        "> TODO: Description, hints, and some code here."
      ],
      "metadata": {
        "id": "K4-ub_3LAnBU"
      }
    },
    {
      "cell_type": "markdown",
      "source": [
        "### Retrieval"
      ],
      "metadata": {
        "id": "BkCcz9hqAq_N"
      }
    },
    {
      "cell_type": "markdown",
      "source": [
        "> TODO: Description, hints, and questions here."
      ],
      "metadata": {
        "id": "xCgun_cnA2Xz"
      }
    },
    {
      "cell_type": "markdown",
      "source": [
        "### Evaluation"
      ],
      "metadata": {
        "id": "ZRFs0krXA92c"
      }
    },
    {
      "cell_type": "markdown",
      "source": [
        "> TODO: Description and hints here."
      ],
      "metadata": {
        "id": "AOlzOWjrA_WA"
      }
    },
    {
      "cell_type": "markdown",
      "source": [
        "## Analysis and Reflection"
      ],
      "metadata": {
        "id": "heErKEhl84Zx"
      }
    },
    {
      "cell_type": "markdown",
      "source": [
        "✍️ *Briefly (at most 2-3 sentences / bullet points each) discuss the following questions, filling in your answers directly below.*\n",
        "\n",
        "***Note: you do not need to repeat anything that you already commented on in your solution above.***\n",
        "\n",
        "- How you might expand this approach to exhibits with tables?\n",
        "\n",
        "\n",
        "- How you might compare the effectiveness of different parsing methods?\n",
        "    \n",
        "    \n",
        "- Ideas for efficiently redoing the architecture design?\n",
        "\n",
        "\n",
        "- Other potential baselines or evaluation methods you would implement with more time"
      ],
      "metadata": {
        "id": "Ai13Jn-T89ep"
      }
    },
    {
      "cell_type": "markdown",
      "source": [
        "### Optional Extensions of Your Solution (only if time permits)"
      ],
      "metadata": {
        "id": "VY2W4bOu9PWQ"
      }
    },
    {
      "cell_type": "code",
      "source": [
        "# ✍️ If time permits (optional): Experiment with redoing the retrieval system."
      ],
      "metadata": {
        "id": "9MKJ4pev86HS"
      },
      "execution_count": 5,
      "outputs": []
    },
    {
      "cell_type": "markdown",
      "source": [
        "# Task 2: Accelerating AI Research Engineering and Synthesis via Product Discovery"
      ],
      "metadata": {
        "id": "4f1QmTnP9dvQ"
      }
    },
    {
      "cell_type": "markdown",
      "source": [
        "Estimated Time: 20 minutes to 2 hours."
      ],
      "metadata": {
        "id": "PlHUFMO1_BBN"
      }
    },
    {
      "cell_type": "markdown",
      "source": [
        "## Objective"
      ],
      "metadata": {
        "id": "MlEcThux9pKN"
      }
    },
    {
      "cell_type": "markdown",
      "source": [
        "The goal of this task is to **propose ways to help devise ways for a research engineer to work more efficiently with respect to the tasks that a product team carries out**. We'd like you to:\n",
        "\n",
        "1. Consider common challenges research engineers might face in reviewing product specs from an engineering team in the PRD process.\n",
        "2. Propose a process that could help researchers more effectively discover, organize, or draw insights from relevant specs to propose new initiatives.\n",
        "3. Briefly describe how you would prototype and test this (technical/non-technical) process.\n",
        "\n",
        "*Note that this is a purposefully vague task. In fact, the most fun part about this role is that you get to define it, so we want you to go wild with your imaginations here :-)*"
      ],
      "metadata": {
        "id": "G_HUOce79qqB"
      }
    },
    {
      "cell_type": "markdown",
      "source": [
        "## Deliverable"
      ],
      "metadata": {
        "id": "nnNryjr4-Nhd"
      }
    },
    {
      "cell_type": "markdown",
      "source": [
        "Write a short proposal (3 - 4 paragraphs) which should aim to address one or more challenges in a way that goes beyond existing approaches. You may want to start by reflecting on (a) which challenge you would like to prioritize, (b) how current approaches geared to software engineers (if any) might fall short in this role, and (c) maybe how you can use AI to build something fundamentally better.\n",
        "\n",
        "Aim to write something that would convince an AI startup to dedicate resources to further developing and implementing your idea."
      ],
      "metadata": {
        "id": "2XGln5rA-Qiq"
      }
    },
    {
      "cell_type": "markdown",
      "source": [
        "## Your Proposal"
      ],
      "metadata": {
        "id": "4TLoNEy9-euu"
      }
    },
    {
      "cell_type": "markdown",
      "source": [
        "*✍️ Fill in your proposal here*"
      ],
      "metadata": {
        "id": "v9DPjZIz-gjG"
      }
    },
    {
      "cell_type": "markdown",
      "source": [
        "# Submission Insructions"
      ],
      "metadata": {
        "id": "ENFbQvHD-kth"
      }
    },
    {
      "cell_type": "markdown",
      "source": [
        "Congratulations on finishing the technical screening!\n",
        "\n",
        "**To submit your work please notify us in the private Slack channel and share this notebook with the following accounts for review:**\n",
        "\n",
        "aman@uryclea.com, parik@urcylea.com, founders@urcylea.com.\n",
        "\n",
        "**Note: Please do not share this notebook with anyone else. Thank you!**\n"
      ],
      "metadata": {
        "id": "eUxDsu7_-nUj"
      }
    },
    {
      "cell_type": "markdown",
      "source": [
        "\n",
        "---\n",
        "---"
      ],
      "metadata": {
        "id": "WoHt21OK_05p"
      }
    }
  ]
}