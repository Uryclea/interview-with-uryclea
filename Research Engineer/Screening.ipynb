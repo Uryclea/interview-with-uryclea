{
  "cells": [
    {
      "cell_type": "markdown",
      "metadata": {
        "id": "dFIHoHd655PK"
      },
      "source": [
        "\n",
        "### 👋 Welcome to the technical screening for the **Research Engineer** position at Uryclea.\n",
        "\n",
        "The research engineer role requires a broad range of engineering skills and **this screening tests for two of them: ML research engineering acumen and a product development mindset** when it comes to research tooling for AI product development.\n",
        "\n",
        "Another very important aspect of this role is reviewing and improving existing code and providing feedback and input to engineering teams. This aspect is not the primary focus of the current test but will be tested in the future during the work trial.\n"
      ]
    },
    {
      "cell_type": "markdown",
      "metadata": {
        "id": "yX-6AZWq6jJx"
      },
      "source": [
        "### Instructions"
      ]
    },
    {
      "cell_type": "markdown",
      "metadata": {
        "id": "hMyRgk6R6Qn-"
      },
      "source": [
        "1. Make a copy of this notebook.\n",
        "2. Read through the tasks and rules below and plan ahead. You can tackle the tasks in whichever order you prefer.\n",
        "3. Fill in your solutions directly in this notebook. The places to fill are marked with \"✍️\".\n",
        "4. When you're finished, please share the notebook with the reviewing team (see instructions at the bottom).\n",
        "\n",
        "If you encounter any issues during the test, please contact us at the private Slack channel.\n",
        "\n",
        "Good luck!\n",
        "\n",
        "\n",
        "---\n",
        "*Note: In the invitation e-mail we asked you to:*\n",
        "- *use Colab if you do not have Jupyter Notebook support.*\n",
        "- *sign up for Colab Pro if you aim to train or finetune models.*\n",
        "\n",
        "*This is purely precautionary. It is entirely possible to do this task without either of these. So, please do not worry if you end up not relying on them in your solution.*\n",
        "\n",
        "---"
      ]
    },
    {
      "cell_type": "markdown",
      "metadata": {
        "id": "AhqeVh616ocV"
      },
      "source": [
        "### Task Overview"
      ]
    },
    {
      "cell_type": "markdown",
      "metadata": {
        "id": "BgFLUcIN6ruj"
      },
      "source": [
        "1. **ML Engineering**:\n",
        "   - Topic: Parsed data from finance is brittle and messy and retrieval systems are easily undone because of this. That is, it is incredibly easy to build a prototype and near enough impossible to build production-level systems.\n",
        "   - Goal: Implement a simple MVP of how parsing and processing such data works in practice and add your thoughts on how to extend it.\n",
        "   - See below for detailed instructions.\n",
        "\n",
        "2. **Product Development / Research Acceleration**:\n",
        "   - Topic: Accelerating research for downstream usage.\n",
        "   - Goal: Propose ideas that could accelerate research for products being developed downstream.\n",
        "   - See below for detailed instructions.\n",
        "\n",
        "  *While both tasks are somewhat open-ended, we **expect task 1 to be significantly more time-demanding**. You're free to prioritize as you wish of course but by default would suggest to allot at least 2/3 of your time for task 1.*"
      ]
    },
    {
      "cell_type": "markdown",
      "metadata": {
        "id": "wT_EJmhv7ga-"
      },
      "source": [
        "### Rules"
      ]
    },
    {
      "cell_type": "markdown",
      "metadata": {
        "id": "TUBmhGhH7fT7"
      },
      "source": [
        "- Please don't update your notebook after submission\n",
        "- Please don't share your notebook with anyone else\n",
        "- While we of course encourage you to use AI assistance during your daily work, we also want to understand your non-AI-mediated thinking and writing. **Please do not use AI assistance during this work test with the below exceptions**.\n",
        "- Allowed tools:\n",
        "  - Internet search for code documentation or snippets is fine.\n",
        "  - autocomplete inside google colab is fine.\n",
        "  - using AI assistants for dataset creation is fine (but should be commented on in the code)\n",
        "\n",
        "Thanks for respecting the process!"
      ]
    },
    {
      "cell_type": "code",
      "execution_count": 3,
      "metadata": {
        "colab": {
          "base_uri": "https://localhost:8080/"
        },
        "id": "-NCXsuGH6qDW",
        "outputId": "4fc313d0-6175-480d-fc33-472e0b7811ad"
      },
      "outputs": [
        {
          "name": "stdout",
          "output_type": "stream",
          "text": [
            "🖐️ Please fill in your name and e-mail to proceed.\n"
          ]
        }
      ],
      "source": [
        "# ✍️ Please agree to the above rules by filling in your name and e-mail below\n",
        "name = \"\"\n",
        "email = \"\"\n",
        "if name and email:\n",
        "  print(f\"🤗 Thank you, {name} ({email}), for consenting to our rules!\")\n",
        "else:\n",
        "  print(\"🖐️ Please fill in your name and e-mail to proceed.\")\n"
      ]
    },
    {
      "cell_type": "markdown",
      "metadata": {
        "id": "zKUN-Hj47wki"
      },
      "source": [
        "# Task 1: ML Research Engineering"
      ]
    },
    {
      "cell_type": "markdown",
      "metadata": {
        "id": "TdG7U4ug-7lC"
      },
      "source": [
        "Estimated Time: 40 minutes to 4 hours."
      ]
    },
    {
      "cell_type": "markdown",
      "metadata": {
        "id": "Q7LmkKv_7yZS"
      },
      "source": [
        "## Objective"
      ]
    },
    {
      "cell_type": "markdown",
      "metadata": {
        "id": "oZ-FSTPc70gW"
      },
      "source": [
        "Implement a simplified version of a **retrieval system processing HTML text**. This task involves selecting appropriate tools, preparing datasets, implementing an evaluation process, and analyzing the results.\n"
      ]
    },
    {
      "cell_type": "markdown",
      "metadata": {
        "id": "5lBBROSU8Pql"
      },
      "source": [
        "## Background"
      ]
    },
    {
      "cell_type": "markdown",
      "metadata": {
        "id": "Rkfy2WDU8SX-"
      },
      "source": [
        "A [Form 8-K](https://www.investor.gov/introduction-investing/investing-basics/glossary/form-8-k#:~:text=Form%208%2DK%20is%20known,that%20triggers%20the%20filing%20requirement) contains exhibits as part of the filing. See [here](https://www.sec.gov/ix?doc=/Archives/edgar/data/40729/000119312524271543/d916570d8k.htm) for an example.\n",
        "\n",
        "These exhibits can come in any shape or form. We can obtain these forms and exhibits in an HTML format. However, the path from this to *talking to your HTML* is not as straightforward."
      ]
    },
    {
      "cell_type": "markdown",
      "metadata": {
        "id": "A3nibyp98Zvl"
      },
      "source": [
        "Important:\n",
        "\n",
        "*   You are free to deviate from the specific approach in the post.\n",
        "*   We are looking for an MVP of a simple retrieval system.\n",
        "\n",
        "We expect this task to be hard to fully solve in the alloted time. So please don't panic and just see how far you get. Good luck!"
      ]
    },
    {
      "cell_type": "markdown",
      "metadata": {
        "id": "lBoManoJ8lix"
      },
      "source": [
        "## Instructions"
      ]
    },
    {
      "cell_type": "markdown",
      "metadata": {
        "id": "9wrQXSYp8m5O"
      },
      "source": [
        "The main task components are:\n",
        "1. Parse HTML files.\n",
        "2. Prepare and process text and vector embeddings for archiving into a vector database.\n",
        "4. Evaluate the system's outputs on sample queries.\n",
        "5. Provide brief thoughts on scaling to alternative settings and challenges.\n",
        "6. *Optional; only if time allows: Attempt extenions such as finetuning models and agentic parsing/retrieval.*"
      ]
    },
    {
      "cell_type": "markdown",
      "metadata": {
        "id": "B4M9GbUH8uRu"
      },
      "source": [
        "## YOUR SOLUTION"
      ]
    },
    {
      "cell_type": "markdown",
      "metadata": {
        "id": "8cMkw0Jx8x5o"
      },
      "source": [
        "*✍️ Fill in your solution below*\n",
        "\n",
        "*Feel free to add your thinking / observations / where you got stuck directly as comments in your code*"
      ]
    },
    {
      "cell_type": "markdown",
      "metadata": {
        "id": "B8GLOIGQAJ5n"
      },
      "source": [
        "### Data Preparation"
      ]
    },
    {
      "cell_type": "markdown",
      "metadata": {
        "id": "qr-EFyQoAMmj"
      },
      "source": [
        "We provide a sample of parsed HTML files in the `html_exhibits`directory. Import them here and examine the text carefully.\n"
      ]
    },
    {
      "cell_type": "code",
      "execution_count": null,
      "metadata": {
        "id": "Eb95fLtd7qOX"
      },
      "outputs": [],
      "source": [
        "# ✍️ "
      ]
    },
    {
      "cell_type": "markdown",
      "metadata": {
        "id": "E0RuS5NtAX0b"
      },
      "source": [
        "### Parse and Process Text"
      ]
    },
    {
      "cell_type": "markdown",
      "metadata": {
        "id": "jlM4VwZ5AbIM"
      },
      "source": [
        "Now, use and import tools to parse and process these HTMLs to text that a retrieval system can use."
      ]
    },
    {
      "cell_type": "code",
      "execution_count": null,
      "metadata": {
        "id": "kDv-D5esAexd"
      },
      "outputs": [],
      "source": [
        "# ✍️ "
      ]
    },
    {
      "cell_type": "markdown",
      "metadata": {
        "id": "lViUiCd7Afd_"
      },
      "source": [
        "### Archive Embeddings"
      ]
    },
    {
      "cell_type": "markdown",
      "metadata": {
        "id": "K4-ub_3LAnBU"
      },
      "source": [
        "Next, using an embedding model, archive the text parsed above into a vector store of your choice. Justify your choices."
      ]
    },
    {
      "cell_type": "code",
      "execution_count": null,
      "metadata": {},
      "outputs": [],
      "source": [
        "# ✍️ "
      ]
    },
    {
      "cell_type": "markdown",
      "metadata": {
        "id": "BkCcz9hqAq_N"
      },
      "source": [
        "### Retrieval System"
      ]
    },
    {
      "cell_type": "markdown",
      "metadata": {
        "id": "xCgun_cnA2Xz"
      },
      "source": [
        "Design a retrieval system that can get answers to user's questions about the exhibits."
      ]
    },
    {
      "cell_type": "code",
      "execution_count": null,
      "metadata": {},
      "outputs": [],
      "source": [
        "# ✍️ "
      ]
    },
    {
      "cell_type": "markdown",
      "metadata": {
        "id": "ZRFs0krXA92c"
      },
      "source": [
        "### Evaluation"
      ]
    },
    {
      "cell_type": "markdown",
      "metadata": {
        "id": "AOlzOWjrA_WA"
      },
      "source": [
        "Come up with sample queries and **evaluate** the performance of the retrieval system."
      ]
    },
    {
      "cell_type": "code",
      "execution_count": null,
      "metadata": {},
      "outputs": [],
      "source": [
        "# ✍️ "
      ]
    },
    {
      "cell_type": "markdown",
      "metadata": {
        "id": "heErKEhl84Zx"
      },
      "source": [
        "## Analysis and Reflection"
      ]
    },
    {
      "cell_type": "markdown",
      "metadata": {
        "id": "Ai13Jn-T89ep"
      },
      "source": [
        "✍️ *Briefly (at most 2-3 sentences / bullet points each) discuss the following questions, filling in your answers directly below.*\n",
        "\n",
        "***Note: you do not need to repeat anything that you already commented on in your solution above.***\n",
        "\n",
        "- How you might expand this approach to arbitrary exhibits, spreadsheets, and pdfs with financial tables?\n",
        "\n",
        "\n",
        "- How you might compare the effectiveness of different parsing, emnbeddings, and retrieval methods?\n",
        "    \n",
        "    \n",
        "- Ideas for efficiently redoing the architecture design?\n",
        "\n",
        "\n",
        "- Other potential baselines or evaluation methods you would implement with more time."
      ]
    },
    {
      "cell_type": "markdown",
      "metadata": {
        "id": "VY2W4bOu9PWQ"
      },
      "source": [
        "### Optional Extensions of Your Solution (only if time permits)"
      ]
    },
    {
      "cell_type": "code",
      "execution_count": 5,
      "metadata": {
        "id": "9MKJ4pev86HS"
      },
      "outputs": [],
      "source": [
        "# ✍️ If time permits (optional): Experiment with redoing the retrieval system."
      ]
    },
    {
      "cell_type": "markdown",
      "metadata": {
        "id": "4f1QmTnP9dvQ"
      },
      "source": [
        "# Task 2: Accelerating AI Research Engineering and Synthesis via Product Discovery"
      ]
    },
    {
      "cell_type": "markdown",
      "metadata": {
        "id": "PlHUFMO1_BBN"
      },
      "source": [
        "Estimated Time: 20 minutes to 2 hours."
      ]
    },
    {
      "cell_type": "markdown",
      "metadata": {
        "id": "MlEcThux9pKN"
      },
      "source": [
        "## Objective"
      ]
    },
    {
      "cell_type": "markdown",
      "metadata": {
        "id": "G_HUOce79qqB"
      },
      "source": [
        "The goal of this task is to **propose ways to help devise ways for a research engineer to work more efficiently with respect to the tasks that a product team carries out**. We'd like you to:\n",
        "\n",
        "1. Consider common challenges research engineers might face in reviewing product specs from an engineering team in the PRD process.\n",
        "2. Propose a process that could help researchers more effectively discover, organize, or draw insights from relevant specs to propose new initiatives.\n",
        "3. Briefly describe how you would prototype and test this (technical/non-technical) process.\n",
        "\n",
        "*Note that this is a purposefully vague task. In fact, the most fun part about this role is that you get to define it, so we want you to go wild with your imaginations here :-)*"
      ]
    },
    {
      "cell_type": "markdown",
      "metadata": {
        "id": "nnNryjr4-Nhd"
      },
      "source": [
        "## Deliverable"
      ]
    },
    {
      "cell_type": "markdown",
      "metadata": {
        "id": "2XGln5rA-Qiq"
      },
      "source": [
        "Write a short proposal (3 - 4 paragraphs) which should aim to address one or more challenges in a way that goes beyond existing approaches. You may want to start by reflecting on (a) which challenge you would like to prioritize, (b) how current approaches geared to software engineers (if any) might fall short in this role, and (c) maybe how you can use AI to build something fundamentally better.\n",
        "\n",
        "Aim to write something that would convince an AI startup to dedicate resources to further developing and implementing your idea."
      ]
    },
    {
      "cell_type": "markdown",
      "metadata": {
        "id": "4TLoNEy9-euu"
      },
      "source": [
        "## Your Proposal"
      ]
    },
    {
      "cell_type": "markdown",
      "metadata": {
        "id": "v9DPjZIz-gjG"
      },
      "source": [
        "*✍️ Fill in your proposal here*"
      ]
    },
    {
      "cell_type": "markdown",
      "metadata": {
        "id": "ENFbQvHD-kth"
      },
      "source": [
        "# Submission Insructions"
      ]
    },
    {
      "cell_type": "markdown",
      "metadata": {
        "id": "eUxDsu7_-nUj"
      },
      "source": [
        "Congratulations on finishing the technical screening!\n",
        "\n",
        "**To submit your work please notify us in the private Slack channel and share this notebook with the following accounts for review:**\n",
        "\n",
        "aman@uryclea.com, parik@urcylea.com, founders@urcylea.com.\n",
        "\n",
        "**Note: Please do not share this notebook with anyone else. Thank you!**\n"
      ]
    },
    {
      "cell_type": "markdown",
      "metadata": {
        "id": "WoHt21OK_05p"
      },
      "source": [
        "\n",
        "---\n",
        "---"
      ]
    }
  ],
  "metadata": {
    "colab": {
      "provenance": []
    },
    "kernelspec": {
      "display_name": "Python 3",
      "name": "python3"
    },
    "language_info": {
      "name": "python"
    }
  },
  "nbformat": 4,
  "nbformat_minor": 0
}
